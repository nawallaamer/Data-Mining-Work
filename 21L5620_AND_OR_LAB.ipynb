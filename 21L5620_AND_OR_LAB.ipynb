{
  "nbformat": 4,
  "nbformat_minor": 0,
  "metadata": {
    "colab": {
      "provenance": []
    },
    "kernelspec": {
      "name": "python3",
      "display_name": "Python 3"
    },
    "language_info": {
      "name": "python"
    }
  },
  "cells": [
    {
      "cell_type": "markdown",
      "source": [
        "# **QUESTION 1**"
      ],
      "metadata": {
        "id": "0O0uZgLjVwFB"
      }
    },
    {
      "cell_type": "code",
      "source": [
        "import numpy as np\n",
        "\n",
        "def linear_act(a):\n",
        "  return 1 if a >= 0 else 0\n",
        "def prediction(weight, bias, a):\n",
        "  return linear_act(np.dot(weight, a) + bias)\n",
        "def training(tinput, lab,weight,bias,lr):\n",
        "  for _ in range(100):\n",
        "      for inp, l in zip(tinput, lab):\n",
        "          pred = prediction(weight,bias,inp)\n",
        "          error = l - pred\n",
        "          weight += lr * error * inp\n",
        "          bias += lr * error\n",
        "  return weight,bias"
      ],
      "metadata": {
        "id": "iVqUDXkrW6oV"
      },
      "execution_count": 2,
      "outputs": []
    },
    {
      "cell_type": "code",
      "source": [
        "initweigh = np.random.rand(2)\n",
        "initbias = np.random.rand()\n",
        "orinp = np.array([[0, 0], [0, 1], [1, 0], [1, 1]])\n",
        "orlab = np.array([0, 1, 1, 1])\n",
        "weight,bias = training(orinp,orlab,initweigh,initbias,0.1)\n",
        "print(\"OR Gate Solution\")\n",
        "for r in range(len(orinp)):\n",
        "    pred = prediction(weight,bias,orinp[r])\n",
        "    print(orinp[r], \" \", pred)"
      ],
      "metadata": {
        "colab": {
          "base_uri": "https://localhost:8080/"
        },
        "id": "AIvWuBZPYKNk",
        "outputId": "d2388924-85e6-42eb-c5b9-7b6d8e556145"
      },
      "execution_count": 4,
      "outputs": [
        {
          "output_type": "stream",
          "name": "stdout",
          "text": [
            "OR Gate Solution\n",
            "[0 0]   0\n",
            "[0 1]   1\n",
            "[1 0]   1\n",
            "[1 1]   1\n"
          ]
        }
      ]
    },
    {
      "cell_type": "code",
      "source": [
        "andinp = np.array([[0, 0], [0, 1], [1, 0], [1, 1]])\n",
        "andlab = np.array([0, 0, 0, 1])\n",
        "weight,bias = training(andinp,andlab,initweigh,initbias,0.1)\n",
        "print(\"AND Gate Solution\")\n",
        "for r in range(len(andinp)):\n",
        "    pred = prediction(weight,bias,andinp[r])\n",
        "    print(andinp[r], \" \", pred)"
      ],
      "metadata": {
        "colab": {
          "base_uri": "https://localhost:8080/"
        },
        "id": "Y4XUB6b-Y3J3",
        "outputId": "85558403-dde0-46aa-8b71-60a0ea0b7ade"
      },
      "execution_count": 6,
      "outputs": [
        {
          "output_type": "stream",
          "name": "stdout",
          "text": [
            "AND Gate Solution\n",
            "[0 0]   0\n",
            "[0 1]   0\n",
            "[1 0]   0\n",
            "[1 1]   1\n"
          ]
        }
      ]
    },
    {
      "cell_type": "code",
      "source": [],
      "metadata": {
        "id": "QeMh1fGrL2NE"
      },
      "execution_count": null,
      "outputs": []
    }
  ]
}