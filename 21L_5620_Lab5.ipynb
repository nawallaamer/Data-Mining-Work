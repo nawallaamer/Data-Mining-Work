{
  "nbformat": 4,
  "nbformat_minor": 0,
  "metadata": {
    "colab": {
      "provenance": []
    },
    "kernelspec": {
      "name": "python3",
      "display_name": "Python 3"
    },
    "language_info": {
      "name": "python"
    }
  },
  "cells": [
    {
      "cell_type": "code",
      "execution_count": 3,
      "metadata": {
        "colab": {
          "base_uri": "https://localhost:8080/"
        },
        "id": "9incj2f71heD",
        "outputId": "21a0e4cd-8402-43a7-8658-b780bf4d9205"
      },
      "outputs": [
        {
          "output_type": "stream",
          "name": "stdout",
          "text": [
            "Solution: [(-1, 0), (0, 1), (0, 1), (1, 0), (0, -1), (0, -1), (-1, 0), (0, 1), (1, 0)]\n"
          ]
        }
      ],
      "source": [
        "import heapq\n",
        "class PuzzleNode:\n",
        "    def __init__(self, state, parent=None, move=None, depth=0, cost=0):\n",
        "        self.parent = parent\n",
        "        self.state = state\n",
        "        self.move = move\n",
        "        self.depth = depth\n",
        "        self.cost = cost\n",
        "    def __lt__(self, other):\n",
        "        return self.cost < other.cost\n",
        "    def __eq__(self, other):\n",
        "        return self.state == other.state\n",
        "    def __hash__(self):\n",
        "        return hash(str(self.state))\n",
        "class NPuzzle:\n",
        "    def __init__(self, initial_state, goal_state):\n",
        "        self.initial_state = initial_state\n",
        "        self.goal_state = goal_state\n",
        "        self.size = len(goal_state)\n",
        "        self.goal_pos = self.GoalPosition()\n",
        "    def GoalPosition(self):\n",
        "      return {val: (a, b) for a, r in enumerate(self.goal_state) for b, val in enumerate(r)}\n",
        "    def heuristic(self, node):\n",
        "      return sum(abs(a - self.goal_pos[val][0]) + abs(b - self.goal_pos[val][1])\n",
        "               for a, r in enumerate(node.state)\n",
        "               for b, val in enumerate(r)\n",
        "               if val != 0)\n",
        "    def neighbors(self, node):\n",
        "        neigh = []\n",
        "        for a, r in enumerate(node.state):\n",
        "            for b, val in enumerate(r):\n",
        "                if val == 0:\n",
        "                    empty_a, empty_b = a, b\n",
        "        moves = [(0, 1), (0, -1), (1, 0), (-1, 0)]\n",
        "        for move_a, move_b in moves:\n",
        "            new_a, new_b = empty_a + move_a, empty_b + move_b\n",
        "            if 0 <= new_a < self.size and 0 <= new_b < self.size:\n",
        "                new_state = [r[:] for r in node.state]\n",
        "                new_state[empty_a][empty_b], new_state[new_a][new_b] = new_state[new_a][new_b], new_state[empty_a][empty_b]\n",
        "                neigh.append(PuzzleNode(new_state, parent=node, move=(move_a, move_b), depth=node.depth+1, cost=node.depth+1+self.heuristic(node)))\n",
        "        return neigh\n",
        "    def reconstruct_path(self, node):\n",
        "        path = []\n",
        "        while node.parent:\n",
        "            path.append(node.move)\n",
        "            node = node.parent\n",
        "        return list(reversed(path))\n",
        "    def astar_algo(self):\n",
        "      OpenList = []\n",
        "      ClosedList = set()\n",
        "      initial_node = PuzzleNode(self.initial_state)\n",
        "      heapq.heappush(OpenList, initial_node)\n",
        "      while OpenList:\n",
        "          current_node = heapq.heappop(OpenList)\n",
        "          if current_node.state == self.goal_state:\n",
        "              return self.reconstruct_path(current_node)\n",
        "          ClosedList.add(current_node)\n",
        "          neigh = self.neighbors(current_node)\n",
        "          for n in neigh:\n",
        "              if n in ClosedList:\n",
        "                  continue\n",
        "              if n not in OpenList:\n",
        "                  heapq.heappush(OpenList, n)\n",
        "              else:\n",
        "                  existing_neighbor_index = next(i for i, item in enumerate(OpenList) if item == n)\n",
        "                  existing_neighbor = OpenList[existing_neighbor_index]\n",
        "                  if n.cost < existing_neighbor.cost:\n",
        "                      existing_neighbor.cost = n.cost\n",
        "                      existing_neighbor.parent = n.parent\n",
        "                      existing_neighbor.move = n.move\n",
        "      return None\n",
        "initial_state = [[2, 8, 1],[0, 4, 3],[7, 6, 5]]\n",
        "goal_state = [[1, 2, 3],[8, 0, 4],[7, 6, 5]]\n",
        "solve = NPuzzle(initial_state, goal_state)\n",
        "solution = solve.astar_algo()\n",
        "print(\"Solution:\", solution)"
      ]
    },
    {
      "cell_type": "code",
      "source": [],
      "metadata": {
        "id": "X0GlJCWy4r2t"
      },
      "execution_count": null,
      "outputs": []
    }
  ]
}